{
 "cells": [
  {
   "cell_type": "markdown",
   "id": "ac8b0047-29fd-48ab-939c-8df51b120f8b",
   "metadata": {},
   "source": [
    "Build and install modules"
   ]
  },
  {
   "cell_type": "code",
   "execution_count": null,
   "id": "fa7e50a5-26c0-4d22-911e-9523f2667149",
   "metadata": {},
   "outputs": [],
   "source": [
    "!update_notebooks && pip install ."
   ]
  }
 ],
 "metadata": {
  "kernelspec": {
   "display_name": "Python 3 (ipykernel)",
   "language": "python",
   "name": "python3"
  },
  "language_info": {
   "codemirror_mode": {
    "name": "ipython",
    "version": 3
   },
   "file_extension": ".py",
   "mimetype": "text/x-python",
   "name": "python",
   "nbconvert_exporter": "python",
   "pygments_lexer": "ipython3",
   "version": "3.8.13"
  }
 },
 "nbformat": 4,
 "nbformat_minor": 5
}
