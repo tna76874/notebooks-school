{
 "cells": [
  {
   "cell_type": "code",
   "execution_count": 10,
   "id": "030a83ff-d9d7-4de2-a70b-39518e07bd7a",
   "metadata": {},
   "outputs": [
    {
     "name": "stdout",
     "output_type": "stream",
     "text": [
      "t=5 s\n",
      "s=4 m\n",
      "v_0=0.5 m/s\n",
      "s_0=1 m\n",
      "a=0.04 m/s²\n",
      "\n",
      "\n",
      "Die Beschleunigung ist a=518400000.0 millimeter/hour²\n"
     ]
    }
   ],
   "source": [
    "from modules.ph import *\n",
    "\n",
    "werte = {\n",
    "        't'   : pe('5 s'),\n",
    "        's'   : pe('4m'),\n",
    "        'v_0' : pe('0.5 m/s'),\n",
    "        's_0' : pe('1m'),\n",
    "        }\n",
    "\n",
    "werte = einsetzen('s=1/2 * a * t**2+v_0*t+s_0',werte).result()\n",
    "\n",
    "print(\"\\n\\nDie Beschleunigung ist a={:}\".format(werte['a'].to('mm/hour**2')))"
   ]
  },
  {
   "cell_type": "code",
   "execution_count": null,
   "id": "9e49b367-e768-40ff-b526-2bba88e4de8f",
   "metadata": {},
   "outputs": [],
   "source": []
  }
 ],
 "metadata": {
  "kernelspec": {
   "display_name": "Python 3 (ipykernel)",
   "language": "python",
   "name": "python3"
  },
  "language_info": {
   "codemirror_mode": {
    "name": "ipython",
    "version": 3
   },
   "file_extension": ".py",
   "mimetype": "text/x-python",
   "name": "python",
   "nbconvert_exporter": "python",
   "pygments_lexer": "ipython3",
   "version": "3.8.13"
  }
 },
 "nbformat": 4,
 "nbformat_minor": 5
}
