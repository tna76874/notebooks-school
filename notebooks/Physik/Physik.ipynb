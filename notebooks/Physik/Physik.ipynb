{
 "cells": [
  {
   "cell_type": "code",
   "execution_count": 1,
   "id": "cf0768a5-511c-4e8f-a5f2-40e1b5b1cc8b",
   "metadata": {},
   "outputs": [],
   "source": [
    "from infomodules.ph import *"
   ]
  },
  {
   "cell_type": "code",
   "execution_count": 2,
   "id": "030a83ff-d9d7-4de2-a70b-39518e07bd7a",
   "metadata": {},
   "outputs": [
    {
     "name": "stdout",
     "output_type": "stream",
     "text": [
      "t=5 s\n",
      "s=4 m\n",
      "v_0=0.5 m/s\n",
      "s_0=1 m\n",
      "a=0.04 m/s²\n",
      "\n",
      "\n",
      "Die Beschleunigung ist a=518400000.0 millimeter/hour²\n"
     ]
    }
   ],
   "source": [
    "werte = {\n",
    "        't'   : pe('5 s'),\n",
    "        's'   : pe('4m'),\n",
    "        'v_0' : pe('0.5 m/s'),\n",
    "        's_0' : pe('1m'),\n",
    "        }\n",
    "\n",
    "werte = einsetzen('s=1/2 * a * t**2+v_0*t+s_0',werte).result()\n",
    "\n",
    "print(\"\\n\\nDie Beschleunigung ist a={:}\".format(werte['a'].to('mm/hour**2')))"
   ]
  },
  {
   "cell_type": "code",
   "execution_count": 3,
   "id": "f9bcc641-8b8c-4993-ad21-e5833c05834c",
   "metadata": {},
   "outputs": [
    {
     "data": {
      "text/plain": [
       "{'g': 'standard acceleration of gravity',\n",
       " 'm_e': 'electron mass',\n",
       " 'e': 'elementary charge',\n",
       " 'c': 'speed of light in vacuum',\n",
       " 'hp': 'Planck constant',\n",
       " 'e0': 'electric constant'}"
      ]
     },
     "execution_count": 3,
     "metadata": {},
     "output_type": "execute_result"
    }
   ],
   "source": [
    "cn.constants"
   ]
  },
  {
   "cell_type": "code",
   "execution_count": 5,
   "id": "e8085987-f378-406f-bc13-785ab1ef12cd",
   "metadata": {},
   "outputs": [
    {
     "data": {
      "text/html": [
       "175882001077.2163 ampere second/kilogram"
      ],
      "text/latex": [
       "$175882001077.2163\\ \\frac{\\mathrm{ampere} \\cdot \\mathrm{second}}{\\mathrm{kilogram}}$"
      ],
      "text/plain": [
       "175882001077.2163 <Unit('ampere * second / kilogram')>"
      ]
     },
     "execution_count": 5,
     "metadata": {},
     "output_type": "execute_result"
    }
   ],
   "source": [
    "(e/m_e).to_base_units()"
   ]
  }
 ],
 "metadata": {
  "kernelspec": {
   "display_name": "Python 3 (ipykernel)",
   "language": "python",
   "name": "python3"
  },
  "language_info": {
   "codemirror_mode": {
    "name": "ipython",
    "version": 3
   },
   "file_extension": ".py",
   "mimetype": "text/x-python",
   "name": "python",
   "nbconvert_exporter": "python",
   "pygments_lexer": "ipython3",
   "version": "3.8.13"
  }
 },
 "nbformat": 4,
 "nbformat_minor": 5
}
