{
 "cells": [
  {
   "cell_type": "markdown",
   "id": "64469bab-d6d4-46ec-94e5-8e6eb351c285",
   "metadata": {},
   "source": [
    "Führe die nachfolgende Zelle aus, um alle Notebooks zurückzusetzen.\n",
    "\n",
    "<span style=\"color:red\"> **ACHTUNG: existierende Dateien werden überschrieben.**</span>"
   ]
  },
  {
   "cell_type": "code",
   "execution_count": null,
   "id": "3f4a00f5-0fa2-477b-8562-a2b66fec0eda",
   "metadata": {},
   "outputs": [],
   "source": [
    "!update_notebooks &> /dev/null || echo -e \"Error\" && echo -e \"Dateien zurückgesetzt :)\""
   ]
  }
 ],
 "metadata": {
  "kernelspec": {
   "display_name": "Python 3 (ipykernel)",
   "language": "python",
   "name": "python3"
  },
  "language_info": {
   "codemirror_mode": {
    "name": "ipython",
    "version": 3
   },
   "file_extension": ".py",
   "mimetype": "text/x-python",
   "name": "python",
   "nbconvert_exporter": "python",
   "pygments_lexer": "ipython3",
   "version": "3.8.13"
  }
 },
 "nbformat": 4,
 "nbformat_minor": 5
}
