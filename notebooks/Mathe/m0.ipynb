{
 "cells": [
  {
   "cell_type": "code",
   "execution_count": null,
   "id": "ed37da90-4bd4-4084-85c5-1edd038148d8",
   "metadata": {},
   "outputs": [],
   "source": [
    "import sympy as sp\n",
    "x,y,z,a,b,c=sp.symbols(\"x,y,z,a,b,c\",real=True)"
   ]
  },
  {
   "cell_type": "code",
   "execution_count": null,
   "id": "0886ac69-15c1-4ec6-8517-b0fccb0a9393",
   "metadata": {},
   "outputs": [],
   "source": [
    "2*x+3*x*y+15/4*b-17*a*b/x-sp.sqrt(x*y*z*16)"
   ]
  },
  {
   "cell_type": "code",
   "execution_count": null,
   "id": "ee7b543d-1c56-4ec8-9473-3cf69dd972e1",
   "metadata": {},
   "outputs": [],
   "source": []
  }
 ],
 "metadata": {
  "kernelspec": {
   "display_name": "Python 3 (ipykernel)",
   "language": "python",
   "name": "python3"
  },
  "language_info": {
   "codemirror_mode": {
    "name": "ipython",
    "version": 3
   },
   "file_extension": ".py",
   "mimetype": "text/x-python",
   "name": "python",
   "nbconvert_exporter": "python",
   "pygments_lexer": "ipython3",
   "version": "3.8.13"
  }
 },
 "nbformat": 4,
 "nbformat_minor": 5
}
