{
 "cells": [
  {
   "cell_type": "code",
   "execution_count": null,
   "id": "d3a96ea7-814b-4e36-ac75-ca0f78835eb9",
   "metadata": {},
   "outputs": [],
   "source": [
    "from modules.social import *\n",
    "\n",
    "klasse = soziogramm()\n",
    "klasse.make_soziogramm()\n",
    "klasse.get_clique()\n",
    "klasse.save(name='soziogramm1')"
   ]
  },
  {
   "cell_type": "code",
   "execution_count": null,
   "id": "5da2b64a-542f-4b83-8719-24ada8415065",
   "metadata": {},
   "outputs": [],
   "source": [
    "from modules.social import *\n",
    "\n",
    "klasse = soziogramm()\n",
    "klasse.make_soziogramm(directed=True)\n",
    "klasse.save(name='soziogramm2')"
   ]
  }
 ],
 "metadata": {
  "kernelspec": {
   "display_name": "Python 3 (ipykernel)",
   "language": "python",
   "name": "python3"
  },
  "language_info": {
   "codemirror_mode": {
    "name": "ipython",
    "version": 3
   },
   "file_extension": ".py",
   "mimetype": "text/x-python",
   "name": "python",
   "nbconvert_exporter": "python",
   "pygments_lexer": "ipython3",
   "version": "3.8.13"
  }
 },
 "nbformat": 4,
 "nbformat_minor": 5
}
