{
 "cells": [
  {
   "cell_type": "code",
   "execution_count": null,
   "id": "0c5502d1-4f70-451b-8de4-99f3c832744b",
   "metadata": {},
   "outputs": [],
   "source": [
    "from infomodules.social import *\n",
    "\n",
    "klasse = soziogramm()\n",
    "klasse.gen_report()"
   ]
  }
 ],
 "metadata": {
  "kernelspec": {
   "display_name": "Python 3 (ipykernel)",
   "language": "python",
   "name": "python3"
  },
  "language_info": {
   "codemirror_mode": {
    "name": "ipython",
    "version": 3
   },
   "file_extension": ".py",
   "mimetype": "text/x-python",
   "name": "python",
   "nbconvert_exporter": "python",
   "pygments_lexer": "ipython3",
   "version": "3.8.13"
  }
 },
 "nbformat": 4,
 "nbformat_minor": 5
}
