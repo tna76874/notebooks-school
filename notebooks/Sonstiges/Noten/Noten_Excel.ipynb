{
 "cells": [
  {
   "cell_type": "code",
   "execution_count": 1,
   "id": "1bcfc986-d69a-475a-b634-3499323f286b",
   "metadata": {},
   "outputs": [],
   "source": [
    "!pip uninstall notenbildung -y > /dev/null 2>&1\n",
    "!pip install git+https://github.com/tna76874/notentransparenz.git@92def6cf4d986082cd5a4e82dbdba007e2f7fcd9 > /dev/null 2>&1\n",
    "\n",
    "from notenbildung.excel import *"
   ]
  },
  {
   "cell_type": "code",
   "execution_count": 2,
   "id": "949f32e3-b776-4ecc-a1d9-2bd14e1d4bad",
   "metadata": {},
   "outputs": [
    {
     "name": "stdout",
     "output_type": "stream",
     "text": [
      "sid: 1\n",
      "vorname: Max\n",
      "nachname: Mustermann\n",
      "Warnung: Zu wenige Leistungen: [<class 'notenbildung.nvo.LeistungKA'>]: Anzahl der Leistungen 1<4\n",
      "sid: 2\n",
      "vorname: Mini\n",
      "nachname: Musterfrau\n",
      "Warnung: Zu wenige Leistungen: [<class 'notenbildung.nvo.LeistungKA'>]: Anzahl der Leistungen 1<4\n",
      "sid: 3\n",
      "vorname: Peter\n",
      "nachname: Pan\n",
      "Warnung: Zu wenige Leistungen: [<class 'notenbildung.nvo.LeistungKA'>]: Anzahl der Leistungen 1<4\n"
     ]
    }
   ],
   "source": [
    "ExcelFileLoader(\"meine_notenliste.xlsx\").export()"
   ]
  }
 ],
 "metadata": {
  "kernelspec": {
   "display_name": "Python 3 (ipykernel)",
   "language": "python",
   "name": "python3"
  },
  "language_info": {
   "codemirror_mode": {
    "name": "ipython",
    "version": 3
   },
   "file_extension": ".py",
   "mimetype": "text/x-python",
   "name": "python",
   "nbconvert_exporter": "python",
   "pygments_lexer": "ipython3",
   "version": "3.8.13"
  }
 },
 "nbformat": 4,
 "nbformat_minor": 5
}
