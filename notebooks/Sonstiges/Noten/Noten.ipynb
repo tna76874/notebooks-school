{
 "cells": [
  {
   "cell_type": "code",
   "execution_count": 1,
   "id": "1bcfc986-d69a-475a-b634-3499323f286b",
   "metadata": {},
   "outputs": [],
   "source": [
    "!pip install git+https://github.com/tna76874/notentransparenz.git > /dev/null 2>&1"
   ]
  },
  {
   "cell_type": "code",
   "execution_count": 2,
   "id": "2de4d468-d159-4b2c-9878-ffd0892de861",
   "metadata": {},
   "outputs": [
    {
     "name": "stdout",
     "output_type": "stream",
     "text": [
      "m_s1=3.175, m_s=3.175, m_m=3.25, gesamtnote=3.1937499999999996\n"
     ]
    }
   ],
   "source": [
    "from notenbildung.notenbildung import *\n",
    "\n",
    "noten = Notenberechnung(w_s0=1, w_sm=3, system = 'N')\n",
    "noten.note_hinzufuegen(art='KA', date = '2024-04-10', note=2, status='fertig')\n",
    "noten.note_hinzufuegen(art='KA', date = '2024-04-15', note=2.5, status='fertig')\n",
    "noten.note_hinzufuegen(art='KA', date = '2024-03-01', note=3, status='fertig')\n",
    "noten.note_hinzufuegen(art='KA', date = '2024-03-15', note=5, status='fertig')\n",
    "noten.note_hinzufuegen(art='KT', date = '2024-02-01', note=4, status='fertig')\n",
    "noten.note_hinzufuegen(art='KT', date = '2024-01-01', note=2.75, status='fertig')\n",
    "noten.note_hinzufuegen(art='m', date = '2023-09-01', note=3.0)\n",
    "noten.note_hinzufuegen(art='m', date = '2023-10-01', note=3.25)\n",
    "noten.note_hinzufuegen(art='m', date = '2023-11-01', note=3.5)\n",
    "\n",
    "gesamtnote = noten.berechne_gesamtnote()\n",
    "print(gesamtnote)"
   ]
  }
 ],
 "metadata": {
  "kernelspec": {
   "display_name": "Python 3 (ipykernel)",
   "language": "python",
   "name": "python3"
  },
  "language_info": {
   "codemirror_mode": {
    "name": "ipython",
    "version": 3
   },
   "file_extension": ".py",
   "mimetype": "text/x-python",
   "name": "python",
   "nbconvert_exporter": "python",
   "pygments_lexer": "ipython3",
   "version": "3.8.13"
  }
 },
 "nbformat": 4,
 "nbformat_minor": 5
}
