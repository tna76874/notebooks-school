{
 "cells": [
  {
   "cell_type": "code",
   "execution_count": null,
   "id": "24b240a2-636e-4d0e-806f-d0088c1ed73e",
   "metadata": {},
   "outputs": [],
   "source": [
    "from modules.figures import *"
   ]
  },
  {
   "cell_type": "code",
   "execution_count": null,
   "id": "7941eaea-2067-4b77-a283-b0151142f780",
   "metadata": {},
   "outputs": [],
   "source": [
    "# symbolische Funktion definieren\n",
    "x = sp.symbols('x', real=True)\n",
    "f = sp.Rational(1,2)*x**2\n",
    "f2 = f*sp.Rational(1,2)\n",
    "\n",
    "# Figure Objekt initialisieren\n",
    "F = plotfig(h=1,v=1,scale=1.2,sharex=True,sharey=True,wspace = 0.2,hspace = 0.2,figsize=[5,4])\n",
    "F.set_fontsize(10)\n",
    "\n",
    "# Gitterlinien festlegen\n",
    "F.grid([1,0.5,1,0.5])\n",
    "\n",
    "# plotten\n",
    "F.symplot(f,f2)\n",
    "\n",
    "# Plotstyle setzen\n",
    "F.arrowed_spines(equal=True,lims=[-3,3,0,5])\n",
    "\n",
    "# Funktionen beschriften\n",
    "F.ax[0].annotate(r\"$f(x) = {:}$\".format(sp.latex(f)), xy=(1,0), xytext=(3, f.subs(x,3)), ha='right', va='center', bbox=dict(facecolor='white', alpha=1, edgecolor='white', boxstyle='round'))\n",
    "F.ax[0].annotate(r\"$g(x) = {:}$\".format(sp.latex(f2)), xy=(1,0), xytext=(3, f2.subs(x,3)), ha='right', va='center', bbox=dict(facecolor='white', alpha=1, edgecolor='white', boxstyle='round'))\n",
    "\n",
    "# Speichern\n",
    "F.save('parabel1')"
   ]
  },
  {
   "cell_type": "code",
   "execution_count": null,
   "id": "53981337-5015-46f6-89da-d3e9b82ec66b",
   "metadata": {},
   "outputs": [],
   "source": [
    "# symbolische Funktion definieren\n",
    "x = sp.symbols('x', real=True)\n",
    "f_1 = sp.Rational(1,2)*x**2\n",
    "f_2 = sp.Rational(1,2)*x**2-2\n",
    "\n",
    "# x und y-Werte generieren\n",
    "X = np.linspace(-3,3,100)\n",
    "f1_l = lambdify(x,f_1)\n",
    "f2_l = lambdify(x,f_2)\n",
    "Y1 = f1_l(X)\n",
    "Y2 = f2_l(X)\n",
    "\n",
    "# Figure Objekt initialisieren\n",
    "F = plotfig(h=2,v=1,scale=2,sharex=True,sharey=True,wspace = 0.2,hspace = 0.0,figsize=[5,3])\n",
    "\n",
    "# Gitterlinien festlegen\n",
    "F.grid([1,None,1,None])\n",
    "\n",
    "# plotten\n",
    "F.ax[0].plot(X,Y1)\n",
    "F.ax[1].plot(X,Y2)\n",
    "\n",
    "# Plotstyle setzen\n",
    "F.arrowed_spines(equal=True,lims=[-3,3,None,None])\n",
    "\n",
    "# Funktion beschriften\n",
    "F.ax[0].annotate(r\"$f(x) = {:}$\".format(sp.latex(f_1)), xy=(1,0), xytext=(0.6, f1_l(3)), ha='left', va='center', bbox=dict(facecolor='white', alpha=1, edgecolor='white', boxstyle='round'))\n",
    "F.ax[1].annotate(r\"$f(x) = {:}$\".format(sp.latex(f_2)), xy=(1,0), xytext=(0.5, f2_l(3)+1), ha='left', va='center', bbox=dict(facecolor='white', alpha=1, edgecolor='white', boxstyle='round'))\n",
    "\n",
    "\n",
    "# Speichern\n",
    "F.save('parabel2')"
   ]
  },
  {
   "cell_type": "code",
   "execution_count": null,
   "id": "5e8ef0be-b469-4826-9793-bcbf768707c6",
   "metadata": {},
   "outputs": [],
   "source": [
    "# symbolische Funktion definieren\n",
    "x = sp.symbols('x', real=True)\n",
    "f_1 = sp.Rational(1,2)*x**2-1\n",
    "f_2 = f_1.diff(x,1)\n",
    "\n",
    "# Figure Objekt initialisieren\n",
    "F = plotfig(h=2,v=1,scale=2,sharex=True,sharey=True,wspace = 0.2,hspace = 0.2,figsize=[5,3])\n",
    "\n",
    "# Gitterlinien festlegen\n",
    "F.grid([1,None,1,None])\n",
    "\n",
    "# plotten\n",
    "F.symplot(f_1,idx=0)\n",
    "F.symplot(f_2,idx=1)\n",
    "\n",
    "# Plotstyle setzen\n",
    "F.arrowed_spines(equal=True,lims=[-3,3,-3,5])\n",
    "\n",
    "# Funktion beschriften\n",
    "F.ax[0].annotate(r\"$f(x) = {:}$\".format(sp.latex(f_1)), xy=(1,0), xytext=(0.3, f_1.subs(x,3)+0.3), ha='left', va='center', bbox=dict(facecolor='white', alpha=1, edgecolor='white', boxstyle='round'))\n",
    "F.ax[1].annotate(r\"$f'(x) = {:}$\".format(sp.latex(f_2)), xy=(1,0), xytext=(0.7, f_2.subs(x,3)), ha='left', va='center', bbox=dict(facecolor='white', alpha=1, edgecolor='white', boxstyle='round'))\n",
    "\n",
    "# Speichern\n",
    "F.save('parabel3')"
   ]
  },
  {
   "cell_type": "code",
   "execution_count": null,
   "id": "e6472c01-c489-4333-a870-4475653a62d2",
   "metadata": {},
   "outputs": [],
   "source": []
  }
 ],
 "metadata": {
  "kernelspec": {
   "display_name": "Python 3 (ipykernel)",
   "language": "python",
   "name": "python3"
  },
  "language_info": {
   "codemirror_mode": {
    "name": "ipython",
    "version": 3
   },
   "file_extension": ".py",
   "mimetype": "text/x-python",
   "name": "python",
   "nbconvert_exporter": "python",
   "pygments_lexer": "ipython3",
   "version": "3.8.13"
  }
 },
 "nbformat": 4,
 "nbformat_minor": 5
}
