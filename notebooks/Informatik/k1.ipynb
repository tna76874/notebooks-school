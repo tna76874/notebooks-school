{
  "metadata": {
    "kernelspec": {
      "name": "python",
      "display_name": "Python (Pyodide)",
      "language": "python"
    },
    "language_info": {
      "codemirror_mode": {
        "name": "python",
        "version": 3
      },
      "file_extension": ".py",
      "mimetype": "text/x-python",
      "name": "python",
      "nbconvert_exporter": "python",
      "pygments_lexer": "ipython3",
      "version": "3.8"
    }
  },
  "nbformat_minor": 4,
  "nbformat": 4,
  "cells": [
    {
      "cell_type": "code",
      "source": "def caesar_verschlüsseln(text, key):\n    if isinstance(key,str): key = ord(key.upper()) - ord('A')\n    return ''.join(chr((ord(char) - ord('A' if char.isupper() else 'a') + key) % 26 + ord('A' if char.isupper() else 'a')) if char.isalpha() else char for char in text)\n\ndef caesar_entschlüsseln(cipher, key):\n    if isinstance(key,str): key = ord(key.upper()) - ord('A')\n    return caesar_verschlüsseln(cipher, -key)",
      "metadata": {
        "trusted": true
      },
      "outputs": [],
      "execution_count": 1
    },
    {
      "cell_type": "code",
      "source": "caesar_verschlüsseln('ABCDEFGHIJKLMNOPQRSTUVWXYZ', 'D')",
      "metadata": {
        "trusted": true
      },
      "outputs": [
        {
          "execution_count": 2,
          "output_type": "execute_result",
          "data": {
            "text/plain": "'DEFGHIJKLMNOPQRSTUVWXYZABC'"
          },
          "metadata": {}
        }
      ],
      "execution_count": 2
    },
    {
      "cell_type": "code",
      "source": "caesar_entschlüsseln('DEFGHIJKLMNOPQRSTUVWXYZABC', 'D')",
      "metadata": {
        "trusted": true
      },
      "outputs": [
        {
          "execution_count": 3,
          "output_type": "execute_result",
          "data": {
            "text/plain": "'ABCDEFGHIJKLMNOPQRSTUVWXYZ'"
          },
          "metadata": {}
        }
      ],
      "execution_count": 3
    },
    {
      "cell_type": "markdown",
      "source": "**1)** Verschlüssele das Wort 'Kryptographie' mit dem Schlüssel 'P'",
      "metadata": {}
    },
    {
      "cell_type": "code",
      "source": "caesar_verschlüsseln('Kryptographie', 'D')",
      "metadata": {
        "trusted": true
      },
      "outputs": [],
      "execution_count": null
    },
    {
      "cell_type": "markdown",
      "source": "**2)** Entschlüssle das Wort 'LJMJNRSFHMWNHMY' mit dem Schlüssel 'F'",
      "metadata": {}
    },
    {
      "cell_type": "code",
      "source": "caesar_entschlüsseln('LJMJNRSFHMWNHMY', 'F')",
      "metadata": {
        "trusted": true
      },
      "outputs": [],
      "execution_count": null
    },
    {
      "cell_type": "markdown",
      "source": "**3)** Schreibe eine kurze Nachricht mit höchstens drei Wörtern und verschlüssle diese mit einem von dir gewählten Schlüssel. Tausche anschließend die verschlüsselte Nachricht und den zugehörigen Schlüssel mit deinem Sitznachbarn und entschlüssle diese.",
      "metadata": {}
    },
    {
      "cell_type": "markdown",
      "source": "**4)** Wie viele verschiedene Schlüssel gibt es beim Cäsar-Verfahren?",
      "metadata": {}
    }
  ]
}