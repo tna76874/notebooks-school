{
 "cells": [
  {
   "cell_type": "code",
   "execution_count": 1,
   "metadata": {},
   "outputs": [],
   "source": [
    "def caesar_verschlüsseln(text, key):\n",
    "    if isinstance(key,str): key = ord(key.upper()) - ord('A')\n",
    "    return ''.join(chr((ord(char) - ord('A' if char.isupper() else 'a') + key) % 26 + ord('A' if char.isupper() else 'a')) if char.isalpha() else char for char in text)\n",
    "\n",
    "def caesar_entschlüsseln(cipher, key):\n",
    "    if isinstance(key,str): key = ord(key.upper()) - ord('A')\n",
    "    return caesar_verschlüsseln(cipher, -key)"
   ]
  },
  {
   "cell_type": "code",
   "execution_count": 2,
   "metadata": {},
   "outputs": [
    {
     "data": {
      "text/plain": [
       "'DEFGHIJKLMNOPQRSTUVWXYZABC'"
      ]
     },
     "execution_count": 2,
     "metadata": {},
     "output_type": "execute_result"
    }
   ],
   "source": [
    "caesar_verschlüsseln('ABCDEFGHIJKLMNOPQRSTUVWXYZ', 'D')"
   ]
  },
  {
   "cell_type": "code",
   "execution_count": 3,
   "metadata": {},
   "outputs": [
    {
     "data": {
      "text/plain": [
       "'ABCDEFGHIJKLMNOPQRSTUVWXYZ'"
      ]
     },
     "execution_count": 3,
     "metadata": {},
     "output_type": "execute_result"
    }
   ],
   "source": [
    "caesar_entschlüsseln('DEFGHIJKLMNOPQRSTUVWXYZABC', 'D')"
   ]
  },
  {
   "cell_type": "markdown",
   "metadata": {},
   "source": [
    "**1)** Verschlüssele das Wort 'Kryptographie' mit dem Schlüssel 'P'"
   ]
  },
  {
   "cell_type": "code",
   "execution_count": null,
   "metadata": {},
   "outputs": [],
   "source": [
    "caesar_verschlüsseln('Kryptographie', 'P')"
   ]
  },
  {
   "cell_type": "markdown",
   "metadata": {},
   "source": [
    "**2)** Entschlüssle das Wort 'LJMJNRSFHMWNHMY' mit dem Schlüssel 'F'"
   ]
  },
  {
   "cell_type": "code",
   "execution_count": null,
   "metadata": {},
   "outputs": [],
   "source": [
    "caesar_entschlüsseln('LJMJNRSFHMWNHMY', 'F')"
   ]
  },
  {
   "cell_type": "markdown",
   "metadata": {},
   "source": [
    "**3)** Schreibe eine kurze Nachricht mit höchstens drei Wörtern und verschlüssle diese mit einem von dir gewählten Schlüssel. Tausche anschließend die verschlüsselte Nachricht und den zugehörigen Schlüssel mit deinem Sitznachbarn und entschlüssle diese."
   ]
  },
  {
   "cell_type": "markdown",
   "metadata": {},
   "source": [
    "**4)** Wie viele verschiedene Schlüssel gibt es beim Cäsar-Verfahren?"
   ]
  }
 ],
 "metadata": {
  "kernelspec": {
   "display_name": "Python 3 (ipykernel)",
   "language": "python",
   "name": "python3"
  },
  "language_info": {
   "codemirror_mode": {
    "name": "ipython",
    "version": 3
   },
   "file_extension": ".py",
   "mimetype": "text/x-python",
   "name": "python",
   "nbconvert_exporter": "python",
   "pygments_lexer": "ipython3",
   "version": "3.8.13"
  }
 },
 "nbformat": 4,
 "nbformat_minor": 4
}
