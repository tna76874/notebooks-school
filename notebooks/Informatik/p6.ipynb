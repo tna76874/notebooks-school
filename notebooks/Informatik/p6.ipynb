{
 "cells": [
  {
   "cell_type": "markdown",
   "id": "7e6426ec-16d6-41a2-88c5-049a5c7d91c6",
   "metadata": {},
   "source": [
    "Mit dem Modul `googletrans` kann der Dienst \"Google Translate\" in einem Python-Programm verwendet werden. Dabei kann die verwendete Sprache erkannt werden, sowie Wörter und Sätze übersetzt werden."
   ]
  },
  {
   "cell_type": "code",
   "execution_count": null,
   "id": "1f5c3e67-4126-4893-94d7-afc1672e72a5",
   "metadata": {},
   "outputs": [],
   "source": [
    "from googletrans import Translator\n",
    "translator = Translator()\n",
    "\n",
    "result = translator.detect('Wer reitet so spät durch Nacht und Wind?')\n",
    "\n",
    "print(f\"Sprache: {result.lang}\\nSo sicher wurde die Sprache erkannt: {result.confidence*100}%\")"
   ]
  },
  {
   "cell_type": "code",
   "execution_count": null,
   "id": "26a20324-50cd-4bf1-ab55-3bc706b00015",
   "metadata": {},
   "outputs": [],
   "source": [
    "from googletrans import Translator\n",
    "translator = Translator()\n",
    "\n",
    "translations = translator.translate(['Wir alle lieben Informatik!', 'Python ist toll!'], dest='fr')\n",
    "\n",
    "for translation in translations:\n",
    "    print(translation.origin, ' -> ', translation.text)"
   ]
  }
 ],
 "metadata": {
  "kernelspec": {
   "display_name": "Python 3 (ipykernel)",
   "language": "python",
   "name": "python3"
  },
  "language_info": {
   "codemirror_mode": {
    "name": "ipython",
    "version": 3
   },
   "file_extension": ".py",
   "mimetype": "text/x-python",
   "name": "python",
   "nbconvert_exporter": "python",
   "pygments_lexer": "ipython3",
   "version": "3.8.13"
  }
 },
 "nbformat": 4,
 "nbformat_minor": 5
}
