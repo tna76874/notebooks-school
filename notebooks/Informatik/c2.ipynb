{
  "metadata": {
    "language_info": {
      "codemirror_mode": {
        "name": "python",
        "version": 3
      },
      "file_extension": ".py",
      "mimetype": "text/x-python",
      "name": "python",
      "nbconvert_exporter": "python",
      "pygments_lexer": "ipython3",
      "version": "3.8"
    },
    "kernelspec": {
      "name": "python",
      "display_name": "Python (Pyodide)",
      "language": "python"
    }
  },
  "nbformat_minor": 4,
  "nbformat": 4,
  "cells": [
    {
      "cell_type": "markdown",
      "source": "Wir wandeln das Wort \"Schule\" in die Binärdarstellung um. ",
      "metadata": {}
    },
    {
      "cell_type": "code",
      "source": "#Wir definieren eine kleine Funktion um eine Dezimalzahl in eine 7-Bit-Binärzahl umzuwandeln.\ndef binaer(buchstabe): return format(ord(buchstabe), '07b')",
      "metadata": {
        "trusted": true
      },
      "execution_count": 1,
      "outputs": []
    },
    {
      "cell_type": "code",
      "source": "bitfolge = ''\nbitfolge = bitfolge + binaer('S')\nbitfolge = bitfolge + binaer('c')\nbitfolge = bitfolge + binaer('h')\nbitfolge = bitfolge + binaer('u')\nbitfolge = bitfolge + binaer('l')\nbitfolge = bitfolge + binaer('e')\n\nbitfolge",
      "metadata": {
        "trusted": true
      },
      "execution_count": 2,
      "outputs": [
        {
          "execution_count": 2,
          "output_type": "execute_result",
          "data": {
            "text/plain": "'101001111000111101000111010111011001100101'"
          },
          "metadata": {}
        }
      ]
    },
    {
      "cell_type": "markdown",
      "source": "Hier wurde wohl ein Fehler gemacht in der Umwandlung:",
      "metadata": {}
    },
    {
      "cell_type": "code",
      "source": "bitfolge == '101001111010111101000111010111011001100101'",
      "metadata": {
        "trusted": true
      },
      "execution_count": 3,
      "outputs": [
        {
          "execution_count": 3,
          "output_type": "execute_result",
          "data": {
            "text/plain": "False"
          },
          "metadata": {}
        }
      ]
    },
    {
      "cell_type": "markdown",
      "source": "Mit einer `for`-Schleife können wir den Algorithmus geschickter aufschreiben:",
      "metadata": {}
    },
    {
      "cell_type": "code",
      "source": "bitfolge=''\nfor buchstabe in 'Schule':\n    bitfolge = bitfolge + binaer(buchstabe)\n\nbitfolge",
      "metadata": {
        "trusted": true
      },
      "execution_count": 4,
      "outputs": [
        {
          "execution_count": 4,
          "output_type": "execute_result",
          "data": {
            "text/plain": "'101001111000111101000111010111011001100101'"
          },
          "metadata": {}
        }
      ]
    }
  ]
}