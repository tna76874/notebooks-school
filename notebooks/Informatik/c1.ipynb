{
 "cells": [
  {
   "cell_type": "markdown",
   "id": "5231e3f8-cb31-41d6-8b45-4869700710c0",
   "metadata": {},
   "source": [
    "In der nächsten Zelle kannst du eine Binärdarstellung eines Bildes in ein Bild umwandeln:"
   ]
  },
  {
   "cell_type": "code",
   "execution_count": null,
   "id": "a21d7e06-4976-40d4-aec8-ef4138f5a64a",
   "metadata": {},
   "outputs": [],
   "source": [
    "%matplotlib inline\n",
    "from infomodules.interactive import *\n",
    "pxim = interactivepixelimage()\n",
    "pxim.set_colormap(one=\"black\")\n",
    "\n",
    "bit_widget = IntSlider(min=4, max=8, step=1, value=4, description='Bitlänge:')\n",
    "bin_widget = Textarea(value=pxim.initbin, placeholder='Bitfolge eingeben', description='Bitfolge:', layout = Layout(width='500px',height='100px'))\n",
    "\n",
    "interactive_plot = interactive(pxim.f, image_bin=bin_widget, bitlaenge=bit_widget)\n",
    "output = interactive_plot.children[-1]\n",
    "output.layout.height = '500px'\n",
    "interactive_plot\n"
   ]
  },
  {
   "cell_type": "markdown",
   "id": "a6ec328a-bf93-4ea0-ad3c-2f6303381953",
   "metadata": {},
   "source": [
    "In der nächsten Zelle kannst du ein Bildes in eine Binärdarstellung umwandeln. Gerne kannst du eigene Bilder mit einem Grafikprogramm (z.B. GIMP) erstellen."
   ]
  },
  {
   "cell_type": "code",
   "execution_count": null,
   "id": "d828f5c1-2b27-47a8-a495-b6053c09c640",
   "metadata": {},
   "outputs": [],
   "source": [
    "from infomodules.pixelimage import *\n",
    "pxim = pixelimage()\n",
    "\n",
    "bit=4\n",
    "pxim.read_pixel_image('nbmedia/bild.png')\n",
    "\n",
    "print(pxim.tobin(pxim.dims[0],bit=bit)[:-1]+pxim.tobin(pxim.dims[1],bit=bit)[:-1]+pxim.bnum)"
   ]
  }
 ],
 "metadata": {
  "kernelspec": {
   "display_name": "Python 3 (ipykernel)",
   "language": "python",
   "name": "python3"
  },
  "language_info": {
   "codemirror_mode": {
    "name": "ipython",
    "version": 3
   },
   "file_extension": ".py",
   "mimetype": "text/x-python",
   "name": "python",
   "nbconvert_exporter": "python",
   "pygments_lexer": "ipython3",
   "version": "3.8.13"
  }
 },
 "nbformat": 4,
 "nbformat_minor": 5
}
