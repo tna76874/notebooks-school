{
 "cells": [
  {
   "cell_type": "markdown",
   "id": "5231e3f8-cb31-41d6-8b45-4869700710c0",
   "metadata": {},
   "source": [
    "In der nächsten Zelle kannst du eine Binärdarstellung eines Bildes in ein Bild umwandeln:"
   ]
  },
  {
   "cell_type": "code",
   "execution_count": null,
   "id": "d70ca488-4c7c-4af8-a33d-0cf1161cfae8",
   "metadata": {},
   "outputs": [],
   "source": [
    "from infomodules.pixelimage import *\n",
    "\n",
    "image_bin = '10011100011111110111000111111000111111000111111101111110101011111000111111101111111101111111010111110111011011111110'\n",
    "bitlaenge = 4\n",
    "\n",
    "pxim = pixelimage()\n",
    "pxim.set_colormap(one=\"white\")\n",
    "imsize = (pxim.todez(image_bin[:bitlaenge]),pxim.todez(image_bin[bitlaenge:2*bitlaenge]))\n",
    "pxim.create_pixel_image(bimage=image_bin[2*bitlaenge:],imsize=imsize)\n",
    "pxim.initfig()\n",
    "pxim.plot(pxim.ax[0])"
   ]
  },
  {
   "cell_type": "markdown",
   "id": "a6ec328a-bf93-4ea0-ad3c-2f6303381953",
   "metadata": {},
   "source": [
    "In der nächsten Zelle kannst du ein Bildes in eine Binärdarstellung umwandeln. Gerne kannst du eigene Bilder mit einem Grafikprogramm (z.B. GIMP) erstellen."
   ]
  },
  {
   "cell_type": "code",
   "execution_count": null,
   "id": "d828f5c1-2b27-47a8-a495-b6053c09c640",
   "metadata": {},
   "outputs": [],
   "source": [
    "from infomodules.pixelimage import *\n",
    "pxim = pixelimage()\n",
    "\n",
    "bit=4\n",
    "pxim.read_pixel_image('nbmedia/bild.png')\n",
    "\n",
    "print(pxim.tobin(pxim.dims[0],bit=bit)[:-1]+pxim.tobin(pxim.dims[1],bit=bit)[:-1]+pxim.bnum)"
   ]
  }
 ],
 "metadata": {
  "kernelspec": {
   "display_name": "Python 3 (ipykernel)",
   "language": "python",
   "name": "python3"
  },
  "language_info": {
   "codemirror_mode": {
    "name": "ipython",
    "version": 3
   },
   "file_extension": ".py",
   "mimetype": "text/x-python",
   "name": "python",
   "nbconvert_exporter": "python",
   "pygments_lexer": "ipython3",
   "version": "3.8.13"
  }
 },
 "nbformat": 4,
 "nbformat_minor": 5
}
