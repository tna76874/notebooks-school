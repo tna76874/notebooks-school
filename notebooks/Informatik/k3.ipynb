{
 "cells": [
  {
   "cell_type": "code",
   "execution_count": 1,
   "metadata": {},
   "outputs": [],
   "source": [
    "from numpy import random\n",
    "class MV:\n",
    "    def __init__(self, geheimalphabet=None):\n",
    "        self.alphabet = 'abcdefghijklmnopqrstuvwxyz'\n",
    "        random.seed(42)\n",
    "        geheim = ''.join(random.permutation(list(self.alphabet)))\n",
    "        self.klartextalphabet = self.alphabet.lower() + self.alphabet.upper()\n",
    "        self.geheimalphabet = (geheimalphabet or geheim).lower() + (geheimalphabet or geheim).upper()\n",
    "        \n",
    "    def verschluessele(self, nachricht):\n",
    "        return nachricht.translate(str.maketrans(self.klartextalphabet, self.geheimalphabet))\n",
    "\n",
    "    def entschluessele(self, verschluesselt):\n",
    "        return verschluesselt.translate(str.maketrans(self.geheimalphabet, self.klartextalphabet))\n",
    "    \n",
    "def buchstaben_haeufigkeiten(satz):\n",
    "    _ = [print (f'{k[0]} : {k[1]*100:.2f}%') for k in sorted({buchstabe.lower(): satz.lower().count(buchstabe.lower()) / len(satz) for buchstabe in set(satz) if buchstabe.isalpha()}.items(), key=lambda x: x[1], reverse=True)]"
   ]
  },
  {
   "cell_type": "code",
   "execution_count": 2,
   "metadata": {},
   "outputs": [
    {
     "data": {
      "text/plain": [
       "'Mdyty Jyxthaipyttyipgr dto yoqst tdhayxyx.'"
      ]
     },
     "execution_count": 2,
     "metadata": {},
     "output_type": "execute_result"
    }
   ],
   "source": [
    "MV('skhmyfradbniugwecxtopjqzvl').verschluessele('Diese Verschluesselung ist etwas sicherer.')"
   ]
  },
  {
   "cell_type": "code",
   "execution_count": 3,
   "metadata": {},
   "outputs": [
    {
     "data": {
      "text/plain": [
       "'Diese Verschluesselung ist etwas sicherer.'"
      ]
     },
     "execution_count": 3,
     "metadata": {},
     "output_type": "execute_result"
    }
   ],
   "source": [
    "MV('skhmyfradbniugwecxtopjqzvl').entschluessele('Mdyty Jyxthaipyttyipgr dto yoqst tdhayxyx.')"
   ]
  },
  {
   "cell_type": "code",
   "execution_count": 4,
   "metadata": {},
   "outputs": [
    {
     "name": "stdout",
     "output_type": "stream",
     "text": [
      "y : 19.05%\n",
      "t : 16.67%\n",
      "d : 7.14%\n",
      "x : 7.14%\n",
      "o : 4.76%\n",
      "i : 4.76%\n",
      "a : 4.76%\n",
      "h : 4.76%\n",
      "p : 4.76%\n",
      "j : 2.38%\n",
      "r : 2.38%\n",
      "s : 2.38%\n",
      "m : 2.38%\n",
      "q : 2.38%\n",
      "g : 2.38%\n"
     ]
    }
   ],
   "source": [
    "buchstaben_haeufigkeiten('Mdyty Jyxthaipyttyipgr dto yoqst tdhayxyx.')"
   ]
  },
  {
   "cell_type": "code",
   "execution_count": null,
   "metadata": {},
   "outputs": [],
   "source": []
  }
 ],
 "metadata": {
  "kernelspec": {
   "display_name": "Python 3 (ipykernel)",
   "language": "python",
   "name": "python3"
  },
  "language_info": {
   "codemirror_mode": {
    "name": "ipython",
    "version": 3
   },
   "file_extension": ".py",
   "mimetype": "text/x-python",
   "name": "python",
   "nbconvert_exporter": "python",
   "pygments_lexer": "ipython3",
   "version": "3.8.13"
  }
 },
 "nbformat": 4,
 "nbformat_minor": 4
}
