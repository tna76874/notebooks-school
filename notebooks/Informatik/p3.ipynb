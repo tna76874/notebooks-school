{
 "cells": [
  {
   "cell_type": "markdown",
   "id": "4e195dd4-ee0d-41d6-b73d-7cef7c34098e",
   "metadata": {},
   "source": [
    "![Die Schildkröte ändert ihre Geschwindigkeit](nbmedia/trinket_conditions.png)"
   ]
  },
  {
   "cell_type": "code",
   "execution_count": null,
   "id": "c5aebda7-481f-4fa9-983a-ddf9e8c3d992",
   "metadata": {},
   "outputs": [],
   "source": [
    "# Hier werden die Module importiert\n",
    "from infomodules.turtleinit import *\n",
    "\n",
    "# Wir erschaffen eine neue Schildkröte\n",
    "turtle = newturtle()\n",
    "\n",
    "# Variablen werden angelegt\n",
    "name = 'Mika'\n",
    "schritte = 40\n",
    "drehung = 45\n",
    "turtle.shape(\"turtle\")\n",
    "# Die erste Bediungung\n",
    "if name == 'Mika':\n",
    "  turtle.right(drehung)\n",
    "  schritte = schritte + 40\n",
    "# Die zweite Bediungung\n",
    "elif name == 'Lotte':\n",
    "  turtle.left(drehung)\n",
    "  schritte = schritte * -2\n",
    "# Führe aus, wenn keine der beiden Bedingungen zutrifft.\n",
    "else:\n",
    "  turtle.left(drehung * 2)\n",
    "turtle.forward(schritte)"
   ]
  },
  {
   "cell_type": "code",
   "execution_count": null,
   "id": "114daa86-ee59-4ae0-81ee-9a835ec2870f",
   "metadata": {},
   "outputs": [],
   "source": []
  }
 ],
 "metadata": {
  "kernelspec": {
   "display_name": "Python 3 (ipykernel)",
   "language": "python",
   "name": "python3"
  },
  "language_info": {
   "codemirror_mode": {
    "name": "ipython",
    "version": 3
   },
   "file_extension": ".py",
   "mimetype": "text/x-python",
   "name": "python",
   "nbconvert_exporter": "python",
   "pygments_lexer": "ipython3",
   "version": "3.8.13"
  }
 },
 "nbformat": 4,
 "nbformat_minor": 5
}
