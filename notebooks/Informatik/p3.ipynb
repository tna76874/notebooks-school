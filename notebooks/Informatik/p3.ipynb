{
 "cells": [
  {
   "cell_type": "markdown",
   "id": "4e195dd4-ee0d-41d6-b73d-7cef7c34098e",
   "metadata": {},
   "source": [
    "![Die Schildkröte ändert ihre Geschwindigkeit](nbmedia/trinket_conditions.png)"
   ]
  },
  {
   "cell_type": "code",
   "execution_count": null,
   "id": "c5aebda7-481f-4fa9-983a-ddf9e8c3d992",
   "metadata": {},
   "outputs": [],
   "source": [
    "# Hier werden die Module importiert\n",
    "from modules.turtleinit import *\n",
    "\n",
    "# Wir erschaffen eine neue Schildkröte\n",
    "turtle = newturtle()\n",
    "\n",
    "# Eine Bediungung\n",
    "name = 'Mika'\n",
    "if name == 'Hans':\n",
    "  geschwindigkeit = 1\n",
    "elif name == 'Mika':\n",
    "  geschwindigkeit = 10\n",
    "else:\n",
    "  geschwindigkeit = 15\n",
    "\n",
    "# Laufanweisungen\n",
    "turtle.shape(\"turtle\")\n",
    "turtle.speed(geschwindigkeit)\n",
    "turtle.forward(100)\n"
   ]
  }
 ],
 "metadata": {
  "kernelspec": {
   "display_name": "Python 3 (ipykernel)",
   "language": "python",
   "name": "python3"
  },
  "language_info": {
   "codemirror_mode": {
    "name": "ipython",
    "version": 3
   },
   "file_extension": ".py",
   "mimetype": "text/x-python",
   "name": "python",
   "nbconvert_exporter": "python",
   "pygments_lexer": "ipython3",
   "version": "3.8.13"
  }
 },
 "nbformat": 4,
 "nbformat_minor": 5
}
