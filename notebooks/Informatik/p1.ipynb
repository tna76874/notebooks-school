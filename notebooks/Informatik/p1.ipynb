{
 "cells": [
  {
   "cell_type": "markdown",
   "id": "4e195dd4-ee0d-41d6-b73d-7cef7c34098e",
   "metadata": {},
   "source": [
    "Mit dem Python Modul **Turtle** kannst du eine Schildkröte bewegen.\n"
   ]
  },
  {
   "cell_type": "code",
   "execution_count": null,
   "id": "c5aebda7-481f-4fa9-983a-ddf9e8c3d992",
   "metadata": {},
   "outputs": [],
   "source": [
    "# Hier werden die Module importiert\n",
    "from infomodules.turtleinit import *\n",
    "\n",
    "# Wir erschaffen eine neue Schildkröte\n",
    "turtle = newturtle()\n",
    "\n",
    "# Ab hier fangen die Laufanweisungen an\n",
    "turtle.shape(\"turtle\")\n",
    "turtle.speed(100)\n",
    "turtle.penup()\n",
    "turtle.goto(-100,-50)\n",
    "turtle.setheading(0)\n",
    "turtle.pendown()\n",
    "turtle.forward(200)\n",
    "turtle.left(90)\n",
    "turtle.forward(100)\n",
    "turtle.left(90)\n",
    "turtle.forward(200)\n",
    "turtle.left(90)\n",
    "turtle.forward(100)"
   ]
  }
 ],
 "metadata": {
  "kernelspec": {
   "display_name": "Python 3 (ipykernel)",
   "language": "python",
   "name": "python3"
  },
  "language_info": {
   "codemirror_mode": {
    "name": "ipython",
    "version": 3
   },
   "file_extension": ".py",
   "mimetype": "text/x-python",
   "name": "python",
   "nbconvert_exporter": "python",
   "pygments_lexer": "ipython3",
   "version": "3.8.13"
  }
 },
 "nbformat": 4,
 "nbformat_minor": 5
}
