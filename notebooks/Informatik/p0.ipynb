{
 "cells": [
  {
   "cell_type": "markdown",
   "id": "ad3e9969-6e60-4ac5-81b8-6975795d6ab8",
   "metadata": {},
   "source": [
    "Das ist eine Textzelle. Textzellen werden nicht als Programmcode ausgeführt. Mit einem Dropdown Menü kannst du eine Zelle zwischen **Code** und **Markdown** (Textzelle) umschalten.\n",
    "\n",
    "Jede Zelle kannst du mit dem kleinen **Play-Symbol** in der Kopfleiste ausführen.\n",
    "\n",
    "![Der Inhalt einer Python-Zelle wird ausgeführt.](nbmedia/notebook0.jpg)"
   ]
  },
  {
   "cell_type": "code",
   "execution_count": 1,
   "id": "71d4549d-07f6-4a48-967a-7613b16375d9",
   "metadata": {},
   "outputs": [],
   "source": [
    "# Das hier ist eine Code-Zelle. Text der hier nicht ausgeführt werden soll wird als \"Kommentar\" mit einem \"#\" am Anfang der Zeile geschrieben\n",
    "\n",
    "# Ein Wert x bekommt einen Satz zugewiesen.\n",
    "x = \"Hallo Welt\""
   ]
  },
  {
   "cell_type": "code",
   "execution_count": 2,
   "id": "6bdf1c71-4e00-4240-80b3-14466d7f8ed8",
   "metadata": {},
   "outputs": [
    {
     "name": "stdout",
     "output_type": "stream",
     "text": [
      "Hallo Welt\n"
     ]
    }
   ],
   "source": [
    "# Eine ausgeführte Zelle kann auch einen Rückgabewert haben.\n",
    "\n",
    "print(x)"
   ]
  },
  {
   "cell_type": "code",
   "execution_count": null,
   "id": "d3ce6276-eb9f-44c8-a101-2e842270704c",
   "metadata": {},
   "outputs": [],
   "source": []
  }
 ],
 "metadata": {
  "kernelspec": {
   "display_name": "Python 3 (ipykernel)",
   "language": "python",
   "name": "python3"
  },
  "language_info": {
   "codemirror_mode": {
    "name": "ipython",
    "version": 3
   },
   "file_extension": ".py",
   "mimetype": "text/x-python",
   "name": "python",
   "nbconvert_exporter": "python",
   "pygments_lexer": "ipython3",
   "version": "3.8.13"
  }
 },
 "nbformat": 4,
 "nbformat_minor": 5
}
