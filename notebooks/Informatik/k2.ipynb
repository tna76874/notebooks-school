{
 "cells": [
  {
   "cell_type": "code",
   "execution_count": 1,
   "metadata": {},
   "outputs": [],
   "source": [
    "def caesar_verschlüsseln(text, key):\n",
    "    if isinstance(key,str): key = ord(key.upper()) - ord('A')\n",
    "    return ''.join(chr((ord(char) - ord('A' if char.isupper() else 'a') + key) % 26 + ord('A' if char.isupper() else 'a')) if char.isalpha() else char for char in text)\n",
    "\n",
    "def caesar_entschlüsseln(cipher, key):\n",
    "    if isinstance(key,str): key = ord(key.upper()) - ord('A')\n",
    "    return caesar_verschlüsseln(cipher, -key)\n",
    "\n",
    "def buchstaben_haeufigkeiten(satz):\n",
    "    _ = [print (f'{k[0]} : {k[1]*100:.2f}%') for k in sorted({buchstabe.lower(): satz.lower().count(buchstabe.lower()) / len(satz) for buchstabe in set(satz) if buchstabe.isalpha()}.items(), key=lambda x: x[1], reverse=True)]"
   ]
  },
  {
   "cell_type": "code",
   "execution_count": 2,
   "metadata": {},
   "outputs": [
    {
     "data": {
      "text/plain": [
       "'RKVVY NKC SCD OSXO QOROSWO QOROSWXKMRBSMRD'"
      ]
     },
     "execution_count": 2,
     "metadata": {},
     "output_type": "execute_result"
    }
   ],
   "source": [
    "caesar_verschlüsseln('HALLO DAS IST EINE GEHEIME GEHEIMNACHRICHT', 'K')"
   ]
  },
  {
   "cell_type": "code",
   "execution_count": 3,
   "metadata": {},
   "outputs": [
    {
     "data": {
      "text/plain": [
       "'HALLO DAS IST EINE GEHEIME GEHEIMNACHRICHT'"
      ]
     },
     "execution_count": 3,
     "metadata": {},
     "output_type": "execute_result"
    }
   ],
   "source": [
    "caesar_entschlüsseln('RKVVY NKC SCD OSXO QOROSWO QOROSWXKMRBSMRD', 'K')"
   ]
  },
  {
   "cell_type": "code",
   "execution_count": 4,
   "metadata": {},
   "outputs": [
    {
     "name": "stdout",
     "output_type": "stream",
     "text": [
      "e : 16.67%\n",
      "i : 11.90%\n",
      "h : 11.90%\n",
      "a : 7.14%\n",
      "t : 4.76%\n",
      "n : 4.76%\n",
      "l : 4.76%\n",
      "m : 4.76%\n",
      "g : 4.76%\n",
      "s : 4.76%\n",
      "c : 4.76%\n",
      "r : 2.38%\n",
      "d : 2.38%\n",
      "o : 2.38%\n"
     ]
    }
   ],
   "source": [
    "buchstaben_haeufigkeiten('HALLO DAS IST EINE GEHEIME GEHEIMNACHRICHT')"
   ]
  },
  {
   "cell_type": "code",
   "execution_count": 5,
   "metadata": {},
   "outputs": [
    {
     "name": "stdout",
     "output_type": "stream",
     "text": [
      "o : 16.67%\n",
      "s : 11.90%\n",
      "r : 11.90%\n",
      "k : 7.14%\n",
      "w : 4.76%\n",
      "m : 4.76%\n",
      "v : 4.76%\n",
      "c : 4.76%\n",
      "x : 4.76%\n",
      "d : 4.76%\n",
      "q : 4.76%\n",
      "b : 2.38%\n",
      "y : 2.38%\n",
      "n : 2.38%\n"
     ]
    }
   ],
   "source": [
    "buchstaben_haeufigkeiten('RKVVY NKC SCD OSXO QOROSWO QOROSWXKMRBSMRD')"
   ]
  },
  {
   "cell_type": "code",
   "execution_count": 6,
   "metadata": {},
   "outputs": [
    {
     "data": {
      "text/plain": [
       "10"
      ]
     },
     "execution_count": 6,
     "metadata": {},
     "output_type": "execute_result"
    }
   ],
   "source": [
    "ord('o')-ord('e')"
   ]
  },
  {
   "cell_type": "code",
   "execution_count": 7,
   "metadata": {},
   "outputs": [
    {
     "data": {
      "text/plain": [
       "'HALLO DAS IST EINE GEHEIMNACHRICHT'"
      ]
     },
     "execution_count": 7,
     "metadata": {},
     "output_type": "execute_result"
    }
   ],
   "source": [
    "caesar_entschlüsseln('RKVVY NKC SCD OSXO QOROSWXKMRBSMRD', 10)"
   ]
  }
 ],
 "metadata": {
  "kernelspec": {
   "display_name": "Python 3 (ipykernel)",
   "language": "python",
   "name": "python3"
  },
  "language_info": {
   "codemirror_mode": {
    "name": "ipython",
    "version": 3
   },
   "file_extension": ".py",
   "mimetype": "text/x-python",
   "name": "python",
   "nbconvert_exporter": "python",
   "pygments_lexer": "ipython3",
   "version": "3.8.13"
  }
 },
 "nbformat": 4,
 "nbformat_minor": 4
}
