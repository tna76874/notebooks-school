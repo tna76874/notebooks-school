{
 "cells": [
  {
   "cell_type": "code",
   "execution_count": null,
   "id": "197822f1-4552-4d97-b6a7-8bf4c02573ca",
   "metadata": {},
   "outputs": [],
   "source": [
    "for i in range(4):\n",
    "    print(f'i={i}')"
   ]
  },
  {
   "cell_type": "code",
   "execution_count": null,
   "id": "ddc4cf7a-5266-40fc-88eb-3a9569094eec",
   "metadata": {},
   "outputs": [],
   "source": [
    "i=0\n",
    "while i<=3:\n",
    "    i = i + 1\n",
    "    print(f'i={i}')"
   ]
  },
  {
   "cell_type": "code",
   "execution_count": null,
   "id": "4d8f8f29-159b-4be5-8397-01a613ce8b1f",
   "metadata": {},
   "outputs": [],
   "source": [
    "i=5\n",
    "for _ in range(3):\n",
    "    print(f'i={i}')\n",
    "    i = i + 1"
   ]
  },
  {
   "cell_type": "code",
   "execution_count": null,
   "id": "658d3b3a-f71f-4c2c-8c08-966cd82d457f",
   "metadata": {},
   "outputs": [],
   "source": [
    "i=5\n",
    "while i <= 8:\n",
    "    print(f'i={i}')\n",
    "    i = i + 1"
   ]
  }
 ],
 "metadata": {
  "kernelspec": {
   "display_name": "Python 3 (ipykernel)",
   "language": "python",
   "name": "python3"
  },
  "language_info": {
   "codemirror_mode": {
    "name": "ipython",
    "version": 3
   },
   "file_extension": ".py",
   "mimetype": "text/x-python",
   "name": "python",
   "nbconvert_exporter": "python",
   "pygments_lexer": "ipython3",
   "version": "3.8.13"
  }
 },
 "nbformat": 4,
 "nbformat_minor": 5
}
