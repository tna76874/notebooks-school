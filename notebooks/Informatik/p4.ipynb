{
 "cells": [
  {
   "cell_type": "code",
   "execution_count": null,
   "id": "c5aebda7-481f-4fa9-983a-ddf9e8c3d992",
   "metadata": {},
   "outputs": [],
   "source": [
    "# Hier werden die Module importiert\n",
    "from infomodules.turtleinit import *\n",
    "\n",
    "# Wir erschaffen eine neue Schildkröte\n",
    "breite = 250\n",
    "hoehe = 200\n",
    "\n",
    "turtle = newturtle(width=breite, height=hoehe)\n",
    "turtle.screen.delay(5)\n",
    "\n",
    "# Laufanweisungen\n",
    "turtle.shape(\"turtle\")\n",
    "\n",
    "max_distance = 800\n",
    "distance = 0\n",
    "step = 1\n",
    "\n",
    "while distance<max_distance:\n",
    "    turtle.forward(step)\n",
    "    x, y = turtle.position()\n",
    "    if (x>breite/2) | (x<-breite/2):\n",
    "        turtle.setheading(180-turtle.heading())\n",
    "\n",
    "    distance = distance + step"
   ]
  }
 ],
 "metadata": {
  "kernelspec": {
   "display_name": "Python 3 (ipykernel)",
   "language": "python",
   "name": "python3"
  },
  "language_info": {
   "codemirror_mode": {
    "name": "ipython",
    "version": 3
   },
   "file_extension": ".py",
   "mimetype": "text/x-python",
   "name": "python",
   "nbconvert_exporter": "python",
   "pygments_lexer": "ipython3",
   "version": "3.8.13"
  }
 },
 "nbformat": 4,
 "nbformat_minor": 5
}
