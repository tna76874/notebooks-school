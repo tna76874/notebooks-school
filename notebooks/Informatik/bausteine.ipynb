{
 "cells": [
  {
   "cell_type": "markdown",
   "id": "1e092ca5-74e3-4afa-a6f1-b11536d2d615",
   "metadata": {},
   "source": [
    "## Baustein 1: Zeit messen"
   ]
  },
  {
   "cell_type": "code",
   "execution_count": 1,
   "id": "4667ad5b-a825-49bb-ac0f-cbcd9c67b20c",
   "metadata": {},
   "outputs": [
    {
     "name": "stdout",
     "output_type": "stream",
     "text": [
      "Die Zeit zwischen start_time und end_time ist: 1.001297950744629 Sekunden\n"
     ]
    }
   ],
   "source": [
    "from infomodules import *\n",
    "\n",
    "# Zeitmessung starten\n",
    "start_time = time.time()\n",
    "\n",
    "# Hier kommt dann dein Programmcode (im Beispiel wird einfach 1 Sekunde gewartet)\n",
    "time.sleep(1)\n",
    "\n",
    "# Zeitmessung beenden\n",
    "end_time = time.time()\n",
    "\n",
    "# Gesamte Zeit berechnen\n",
    "vergangene_zeit = end_time - start_time\n",
    "\n",
    "print(f\"Die Zeit zwischen start_time und end_time ist: {vergangene_zeit} Sekunden\")"
   ]
  },
  {
   "cell_type": "markdown",
   "id": "69c08043-fd37-4e49-aa49-48f060d4faf7",
   "metadata": {},
   "source": [
    "## Baustein 2: Eine Zufallszahl würfeln\n",
    "hier zwischen 1 und 100"
   ]
  },
  {
   "cell_type": "code",
   "execution_count": 2,
   "id": "01532ce6-d67d-44a1-849b-3b247f59445f",
   "metadata": {},
   "outputs": [
    {
     "name": "stdout",
     "output_type": "stream",
     "text": [
      "2\n"
     ]
    }
   ],
   "source": [
    "from infomodules import *\n",
    "zahl = random.randint(0,100)\n",
    "print(zahl)"
   ]
  },
  {
   "cell_type": "markdown",
   "id": "32d2df60-3a5f-4571-bc2d-4c1085d173ce",
   "metadata": {},
   "source": [
    "## Baustein 3: Sprache erkennen"
   ]
  },
  {
   "cell_type": "code",
   "execution_count": 3,
   "id": "41eec4b8-b8cd-45e1-b9e4-491c8b523ab7",
   "metadata": {},
   "outputs": [
    {
     "name": "stdout",
     "output_type": "stream",
     "text": [
      "Sprache: de\n",
      "So sicher wurde die Sprache erkannt: 100%\n",
      "Sprache: en\n",
      "So sicher wurde die Sprache erkannt: 40%\n"
     ]
    }
   ],
   "source": [
    "from infomodules import *\n",
    "sprache = sprache.sprache()\n",
    "erkannte_sprache, wahrscheinlichkeit = sprache.erkennen('Wer reitet so spät durch Nacht und Wind?')\n",
    "\n",
    "erkannte_sprache, wahrscheinlichkeit = sprache.erkennen('LJMJNRSFHMWNHMY')"
   ]
  },
  {
   "cell_type": "markdown",
   "id": "a7630813-6e1e-4411-af3a-fca845e732ad",
   "metadata": {},
   "source": [
    "## Baustein 4: Sprache übersetzen"
   ]
  },
  {
   "cell_type": "code",
   "execution_count": 4,
   "id": "f900ce1e-dded-4d81-a959-24850f9e71c8",
   "metadata": {},
   "outputs": [
    {
     "name": "stdout",
     "output_type": "stream",
     "text": [
      "Wer reitet so spät durch Nacht und Wind?  ->  Qui roule si tard dans la nuit et dans le vent ?\n"
     ]
    }
   ],
   "source": [
    "from infomodules import *\n",
    "sprache = sprache.sprache()\n",
    "sprache.uebersetzen('Wer reitet so spät durch Nacht und Wind?', zielsprache = 'fr')"
   ]
  },
  {
   "cell_type": "markdown",
   "id": "360c0b15-e344-4417-83ba-ecf1365e844c",
   "metadata": {},
   "source": [
    "## Baustein 5: Zahl als Wort ausgeben"
   ]
  },
  {
   "cell_type": "code",
   "execution_count": 5,
   "id": "66ef111f-0c8c-4306-b292-e83a9eb1583f",
   "metadata": {},
   "outputs": [
    {
     "name": "stdout",
     "output_type": "stream",
     "text": [
      "trente-cinq\n"
     ]
    }
   ],
   "source": [
    "from infomodules import *\n",
    "\n",
    "zahl_wort = num2words(35,lang='fr')\n",
    "print(zahl_wort)\n"
   ]
  },
  {
   "cell_type": "markdown",
   "id": "3a75d282-f015-46f4-b252-2ffd56aaa2bb",
   "metadata": {},
   "source": [
    "## Baustein 6: Cäsar-Verschlüsselung"
   ]
  },
  {
   "cell_type": "code",
   "execution_count": 6,
   "id": "ae93e9ea-fe0f-4455-b2cb-962f9dc0ff2e",
   "metadata": {},
   "outputs": [
    {
     "data": {
      "text/plain": [
       "'RKVVY NKC SCD OSXO QOROSWO QOROSWXKMRBSMRD'"
      ]
     },
     "execution_count": 6,
     "metadata": {},
     "output_type": "execute_result"
    }
   ],
   "source": [
    "from infomodules.crypt import *\n",
    "caesar_verschlüsseln('HALLO DAS IST EINE GEHEIME GEHEIMNACHRICHT', 'K')"
   ]
  },
  {
   "cell_type": "code",
   "execution_count": 7,
   "id": "cb73c89a-174e-4ba5-b421-c2b71365b95d",
   "metadata": {},
   "outputs": [
    {
     "data": {
      "text/plain": [
       "'HALLO DAS IST EINE GEHEIME GEHEIMNACHRICHT'"
      ]
     },
     "execution_count": 7,
     "metadata": {},
     "output_type": "execute_result"
    }
   ],
   "source": [
    "from infomodules.crypt import *\n",
    "caesar_entschlüsseln('RKVVY NKC SCD OSXO QOROSWO QOROSWXKMRBSMRD', 'K')"
   ]
  },
  {
   "cell_type": "code",
   "execution_count": 8,
   "id": "aaeddf30-9d3b-480f-ba13-2671208161fc",
   "metadata": {},
   "outputs": [
    {
     "name": "stdout",
     "output_type": "stream",
     "text": [
      "e : 16.67%\n",
      "i : 11.90%\n",
      "h : 11.90%\n",
      "a : 7.14%\n",
      "s : 4.76%\n",
      "c : 4.76%\n",
      "l : 4.76%\n",
      "g : 4.76%\n",
      "n : 4.76%\n",
      "m : 4.76%\n",
      "t : 4.76%\n",
      "o : 2.38%\n",
      "d : 2.38%\n",
      "r : 2.38%\n"
     ]
    }
   ],
   "source": [
    "from infomodules.crypt import *\n",
    "buchstaben_haeufigkeiten('HALLO DAS IST EINE GEHEIME GEHEIMNACHRICHT')"
   ]
  },
  {
   "cell_type": "markdown",
   "id": "3f817b75-fed4-424f-ac18-ae771dec67b4",
   "metadata": {},
   "source": [
    "## Baustein 7: Eingabe von Werten"
   ]
  },
  {
   "cell_type": "code",
   "execution_count": 9,
   "id": "57ac07e5-f2b6-42cb-8734-bd327f0ccec3",
   "metadata": {},
   "outputs": [
    {
     "name": "stdin",
     "output_type": "stream",
     "text": [
      "Gib etwas ein:  Hallo\n"
     ]
    },
    {
     "name": "stdout",
     "output_type": "stream",
     "text": [
      "Du hast eingegeben: Hallo\n"
     ]
    }
   ],
   "source": [
    "benutzer_eingabe = input(\"Gib etwas ein: \")\n",
    "print(\"Du hast eingegeben:\", benutzer_eingabe)"
   ]
  }
 ],
 "metadata": {
  "kernelspec": {
   "display_name": "Python 3 (ipykernel)",
   "language": "python",
   "name": "python3"
  },
  "language_info": {
   "codemirror_mode": {
    "name": "ipython",
    "version": 3
   },
   "file_extension": ".py",
   "mimetype": "text/x-python",
   "name": "python",
   "nbconvert_exporter": "python",
   "pygments_lexer": "ipython3",
   "version": "3.8.13"
  }
 },
 "nbformat": 4,
 "nbformat_minor": 5
}
