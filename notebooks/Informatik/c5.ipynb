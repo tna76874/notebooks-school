{
  "metadata": {
    "kernelspec": {
      "name": "python",
      "display_name": "Python (Pyodide)",
      "language": "python"
    },
    "language_info": {
      "codemirror_mode": {
        "name": "python",
        "version": 3
      },
      "file_extension": ".py",
      "mimetype": "text/x-python",
      "name": "python",
      "nbconvert_exporter": "python",
      "pygments_lexer": "ipython3",
      "version": "3.8"
    }
  },
  "nbformat_minor": 5,
  "nbformat": 4,
  "cells": [
    {
      "id": "17652b6d-34ac-45b4-a9a4-b76607c1568d",
      "cell_type": "code",
      "source": "for i in range(5):\n    if i+i == 4:\n        print(f'{i} Hallo')\n        \n    if i < 3:\n        print(f'{i} Schule')\n    elif i > 3:\n        print(f'{i} Technik')\n    else:\n        print(f'{i} Informatik')",
      "metadata": {
        "trusted": true
      },
      "outputs": [],
      "execution_count": null
    }
  ]
}