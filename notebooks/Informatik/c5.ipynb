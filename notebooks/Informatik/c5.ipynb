{
 "cells": [
  {
   "cell_type": "code",
   "execution_count": null,
   "id": "17652b6d-34ac-45b4-a9a4-b76607c1568d",
   "metadata": {},
   "outputs": [],
   "source": [
    "for i in range(5):\n",
    "    if i+i == 4:\n",
    "        print(f'{i} Hallo')\n",
    "        \n",
    "    if i < 3:\n",
    "        print(f'{i} Schule')\n",
    "    elif i < 3:\n",
    "        print(f'{i} Schule')\n",
    "    else:\n",
    "        print(f'{i} Informatik')"
   ]
  }
 ],
 "metadata": {
  "kernelspec": {
   "display_name": "Python 3 (ipykernel)",
   "language": "python",
   "name": "python3"
  },
  "language_info": {
   "codemirror_mode": {
    "name": "ipython",
    "version": 3
   },
   "file_extension": ".py",
   "mimetype": "text/x-python",
   "name": "python",
   "nbconvert_exporter": "python",
   "pygments_lexer": "ipython3",
   "version": "3.8.13"
  }
 },
 "nbformat": 4,
 "nbformat_minor": 5
}
