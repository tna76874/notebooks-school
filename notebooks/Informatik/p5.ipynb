{
 "cells": [
  {
   "cell_type": "markdown",
   "id": "94461940-6e1e-47f7-a119-f40426a9d9e5",
   "metadata": {},
   "source": [
    "Mit dem Modul `num2words` kann man eine Zahl in Text ausgeben lassen - in verschiedenen [Sprachen](https://pypi.org/project/num2words/). Mit `input()` kann eine Nutzereingabe übergeben werden-"
   ]
  },
  {
   "cell_type": "code",
   "execution_count": null,
   "id": "c5aebda7-481f-4fa9-983a-ddf9e8c3d992",
   "metadata": {},
   "outputs": [],
   "source": [
    "# Hier werden die Module importiert\n",
    "from num2words import num2words\n",
    "import random\n",
    "\n",
    "points = 0\n",
    "print(\"Gib die Zahl ein:\")\n",
    "for count in range(5):\n",
    "    zahl = random.randint(0,100)\n",
    "    print(num2words(zahl,lang='fr'))\n",
    "    eingabe = input()\n",
    "    if int(eingabe)==zahl:\n",
    "        print(\"Richtig :)\")\n",
    "        points = points + 1\n",
    "    else:\n",
    "        print(\"Falsch :(. Richtig war:\")\n",
    "        print(zahl)\n",
    "        \n",
    "print(\"Deine Punkte:\")\n",
    "print(points)"
   ]
  }
 ],
 "metadata": {
  "kernelspec": {
   "display_name": "Python 3 (ipykernel)",
   "language": "python",
   "name": "python3"
  },
  "language_info": {
   "codemirror_mode": {
    "name": "ipython",
    "version": 3
   },
   "file_extension": ".py",
   "mimetype": "text/x-python",
   "name": "python",
   "nbconvert_exporter": "python",
   "pygments_lexer": "ipython3",
   "version": "3.8.13"
  }
 },
 "nbformat": 4,
 "nbformat_minor": 5
}
