{
 "cells": [
  {
   "cell_type": "markdown",
   "id": "4e195dd4-ee0d-41d6-b73d-7cef7c34098e",
   "metadata": {},
   "source": [
    "![Die Schildkröte ändert ihre Geschwindigkeit](nbmedia/trinket_variables.png)"
   ]
  },
  {
   "cell_type": "code",
   "execution_count": 2,
   "id": "c5aebda7-481f-4fa9-983a-ddf9e8c3d992",
   "metadata": {},
   "outputs": [
    {
     "data": {
      "application/vnd.jupyter.widget-view+json": {
       "model_id": "0222fdc2d8a840a49db823da1b3f3594",
       "version_major": 2,
       "version_minor": 0
      },
      "text/plain": [
       "Canvas(height=250, width=400)"
      ]
     },
     "metadata": {},
     "output_type": "display_data"
    },
    {
     "name": "stdout",
     "output_type": "stream",
     "text": [
      "Die Geschwindigkeit am Anfang ist 1\n",
      "Die Geschwindigkeit am Ende ist 4\n"
     ]
    }
   ],
   "source": [
    "# Hier werden die Module importiert\n",
    "from modules.turtleinit import *\n",
    "\n",
    "# Wir erschaffen eine neue Schildkröte\n",
    "turtle = newturtle()\n",
    "\n",
    "# Laufanweisungen\n",
    "turtle.shape(\"turtle\")\n",
    "geschwindigkeit = 1\n",
    "turtle.speed(geschwindigkeit)\n",
    "print(str('Die Geschwindigkeit am Anfang ist ') + str(geschwindigkeit))\n",
    "turtle.color('#009900')\n",
    "turtle.pendown()\n",
    "turtle.forward(50)\n",
    "geschwindigkeit = geschwindigkeit + 1\n",
    "turtle.speed(geschwindigkeit)\n",
    "turtle.left(90)\n",
    "turtle.forward(50)\n",
    "geschwindigkeit = geschwindigkeit + 1\n",
    "turtle.speed(geschwindigkeit)\n",
    "turtle.left(90)\n",
    "turtle.forward(50)\n",
    "geschwindigkeit = geschwindigkeit + 1\n",
    "turtle.speed(geschwindigkeit)\n",
    "turtle.left(90)\n",
    "turtle.forward(50)\n",
    "print(str('Die Geschwindigkeit am Ende ist ') + str(geschwindigkeit))\n"
   ]
  }
 ],
 "metadata": {
  "kernelspec": {
   "display_name": "Python 3 (ipykernel)",
   "language": "python",
   "name": "python3"
  },
  "language_info": {
   "codemirror_mode": {
    "name": "ipython",
    "version": 3
   },
   "file_extension": ".py",
   "mimetype": "text/x-python",
   "name": "python",
   "nbconvert_exporter": "python",
   "pygments_lexer": "ipython3",
   "version": "3.8.13"
  }
 },
 "nbformat": 4,
 "nbformat_minor": 5
}
