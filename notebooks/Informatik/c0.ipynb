{
  "metadata": {
    "kernelspec": {
      "name": "python",
      "display_name": "Python (Pyodide)",
      "language": "python"
    },
    "language_info": {
      "codemirror_mode": {
        "name": "python",
        "version": 3
      },
      "file_extension": ".py",
      "mimetype": "text/x-python",
      "name": "python",
      "nbconvert_exporter": "python",
      "pygments_lexer": "ipython3",
      "version": "3.8"
    }
  },
  "nbformat_minor": 5,
  "nbformat": 4,
  "cells": [
    {
      "cell_type": "markdown",
      "source": "Mit diesen Befehlen kannst du umwandeln:\n| Umwandlung        | Befehl       |\n|-------------------|--------------|\n| Binär -> Dezimal  | int('101',2) |\n| Dezimal -> Binär (hier z.B. 7-Bit)  | format(18, '07b') |\n| Zeichen --> ASCII | ord('B')     |\n| ASCII --> Zeichen | chr(97)      |",
      "metadata": {},
      "id": "5231e3f8-cb31-41d6-8b45-4869700710c0"
    },
    {
      "cell_type": "code",
      "source": "format(18, '07b')",
      "metadata": {
        "trusted": true
      },
      "execution_count": 1,
      "outputs": [
        {
          "execution_count": 1,
          "output_type": "execute_result",
          "data": {
            "text/plain": "'0010010'"
          },
          "metadata": {}
        }
      ],
      "id": "66e777d2-a6bd-45ba-98b1-ddd5abbb57a1"
    },
    {
      "cell_type": "code",
      "source": "format(18, '05b')",
      "metadata": {
        "trusted": true
      },
      "execution_count": 2,
      "outputs": [
        {
          "execution_count": 2,
          "output_type": "execute_result",
          "data": {
            "text/plain": "'10010'"
          },
          "metadata": {}
        }
      ],
      "id": "64961812-b9a3-47ec-8db9-12628207a254"
    }
  ]
}