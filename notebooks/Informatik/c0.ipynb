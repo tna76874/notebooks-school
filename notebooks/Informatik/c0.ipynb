{
 "cells": [
  {
   "cell_type": "markdown",
   "id": "5231e3f8-cb31-41d6-8b45-4869700710c0",
   "metadata": {},
   "source": [
    "Mit diesen Befehlen kannst du umwandeln:\n",
    "| Umwandlung        | Befehl       |\n",
    "|-------------------|--------------|\n",
    "| Binär -> Dezimal  | int('101',2) |\n",
    "| Dezimal -> Binär  | bin(3)       |\n",
    "| Zeichen --> ASCII | ord('B')     |\n",
    "| ASCII --> Zeichen | chr(97)      |"
   ]
  },
  {
   "cell_type": "code",
   "execution_count": 1,
   "id": "66e777d2-a6bd-45ba-98b1-ddd5abbb57a1",
   "metadata": {},
   "outputs": [
    {
     "data": {
      "text/plain": [
       "5"
      ]
     },
     "execution_count": 1,
     "metadata": {},
     "output_type": "execute_result"
    }
   ],
   "source": [
    "int('101',2)"
   ]
  },
  {
   "cell_type": "code",
   "execution_count": null,
   "id": "64961812-b9a3-47ec-8db9-12628207a254",
   "metadata": {},
   "outputs": [],
   "source": []
  }
 ],
 "metadata": {
  "kernelspec": {
   "display_name": "Python 3 (ipykernel)",
   "language": "python",
   "name": "python3"
  },
  "language_info": {
   "codemirror_mode": {
    "name": "ipython",
    "version": 3
   },
   "file_extension": ".py",
   "mimetype": "text/x-python",
   "name": "python",
   "nbconvert_exporter": "python",
   "pygments_lexer": "ipython3",
   "version": "3.8.13"
  }
 },
 "nbformat": 4,
 "nbformat_minor": 5
}
